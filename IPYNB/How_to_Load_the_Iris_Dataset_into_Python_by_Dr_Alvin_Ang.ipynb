{
  "nbformat": 4,
  "nbformat_minor": 0,
  "metadata": {
    "colab": {
      "provenance": [],
      "toc_visible": true
    },
    "kernelspec": {
      "name": "python3",
      "display_name": "Python 3"
    },
    "language_info": {
      "name": "python"
    }
  },
  "cells": [
    {
      "cell_type": "markdown",
      "source": [
        "https://www.alvinang.sg/s/iris_dataset.csv\n"
      ],
      "metadata": {
        "id": "SFNXqbXaeRvf"
      }
    },
    {
      "cell_type": "markdown",
      "source": [
        "\n",
        "\n",
        "---\n",
        "\n"
      ],
      "metadata": {
        "id": "GsCQ-vTvgSxw"
      }
    },
    {
      "cell_type": "markdown",
      "source": [
        "#Step 1: Import Libraries"
      ],
      "metadata": {
        "id": "xkHtlTnfen5Y"
      }
    },
    {
      "cell_type": "code",
      "source": [
        "import pandas as pd\n",
        "from sklearn.preprocessing import LabelEncoder"
      ],
      "metadata": {
        "id": "nKQlJ09FfDoR"
      },
      "execution_count": 1,
      "outputs": []
    },
    {
      "cell_type": "markdown",
      "source": [
        "\n",
        "\n",
        "---\n",
        "\n"
      ],
      "metadata": {
        "id": "495O7iKefYN8"
      }
    },
    {
      "cell_type": "markdown",
      "source": [
        "#Step 2: Load the Iris Dataset"
      ],
      "metadata": {
        "id": "bCMtNtdCfHrY"
      }
    },
    {
      "cell_type": "code",
      "source": [
        "iris = pd.read_csv(\"https://www.alvinang.sg/s/iris_dataset.csv\")"
      ],
      "metadata": {
        "id": "TLMRvPKWfJyS"
      },
      "execution_count": 2,
      "outputs": []
    },
    {
      "cell_type": "markdown",
      "source": [
        "\n",
        "\n",
        "---\n",
        "\n"
      ],
      "metadata": {
        "id": "qGckUKRJfZlU"
      }
    },
    {
      "cell_type": "markdown",
      "source": [
        "#Step 3: Create, Fit and Use the Label Encoder"
      ],
      "metadata": {
        "id": "uz0Bnzq3fMoH"
      }
    },
    {
      "cell_type": "code",
      "execution_count": 3,
      "metadata": {
        "colab": {
          "base_uri": "https://localhost:8080/",
          "height": 423
        },
        "id": "e5tsDNEFeG5E",
        "outputId": "0b7108fa-bdcc-4159-85e4-e2778ba5ff13"
      },
      "outputs": [
        {
          "output_type": "execute_result",
          "data": {
            "text/plain": [
              "     sepal_length  sepal_width  petal_length  petal_width  species\n",
              "0             5.1          3.5           1.4          0.2        0\n",
              "1             4.9          3.0           1.4          0.2        0\n",
              "2             4.7          3.2           1.3          0.2        0\n",
              "3             4.6          3.1           1.5          0.2        0\n",
              "4             5.0          3.6           1.4          0.2        0\n",
              "..            ...          ...           ...          ...      ...\n",
              "145           6.7          3.0           5.2          2.3        2\n",
              "146           6.3          2.5           5.0          1.9        2\n",
              "147           6.5          3.0           5.2          2.0        2\n",
              "148           6.2          3.4           5.4          2.3        2\n",
              "149           5.9          3.0           5.1          1.8        2\n",
              "\n",
              "[150 rows x 5 columns]"
            ],
            "text/html": [
              "\n",
              "  <div id=\"df-b2afa81f-a35d-4e6b-b18c-7d50d16f2ac4\" class=\"colab-df-container\">\n",
              "    <div>\n",
              "<style scoped>\n",
              "    .dataframe tbody tr th:only-of-type {\n",
              "        vertical-align: middle;\n",
              "    }\n",
              "\n",
              "    .dataframe tbody tr th {\n",
              "        vertical-align: top;\n",
              "    }\n",
              "\n",
              "    .dataframe thead th {\n",
              "        text-align: right;\n",
              "    }\n",
              "</style>\n",
              "<table border=\"1\" class=\"dataframe\">\n",
              "  <thead>\n",
              "    <tr style=\"text-align: right;\">\n",
              "      <th></th>\n",
              "      <th>sepal_length</th>\n",
              "      <th>sepal_width</th>\n",
              "      <th>petal_length</th>\n",
              "      <th>petal_width</th>\n",
              "      <th>species</th>\n",
              "    </tr>\n",
              "  </thead>\n",
              "  <tbody>\n",
              "    <tr>\n",
              "      <th>0</th>\n",
              "      <td>5.1</td>\n",
              "      <td>3.5</td>\n",
              "      <td>1.4</td>\n",
              "      <td>0.2</td>\n",
              "      <td>0</td>\n",
              "    </tr>\n",
              "    <tr>\n",
              "      <th>1</th>\n",
              "      <td>4.9</td>\n",
              "      <td>3.0</td>\n",
              "      <td>1.4</td>\n",
              "      <td>0.2</td>\n",
              "      <td>0</td>\n",
              "    </tr>\n",
              "    <tr>\n",
              "      <th>2</th>\n",
              "      <td>4.7</td>\n",
              "      <td>3.2</td>\n",
              "      <td>1.3</td>\n",
              "      <td>0.2</td>\n",
              "      <td>0</td>\n",
              "    </tr>\n",
              "    <tr>\n",
              "      <th>3</th>\n",
              "      <td>4.6</td>\n",
              "      <td>3.1</td>\n",
              "      <td>1.5</td>\n",
              "      <td>0.2</td>\n",
              "      <td>0</td>\n",
              "    </tr>\n",
              "    <tr>\n",
              "      <th>4</th>\n",
              "      <td>5.0</td>\n",
              "      <td>3.6</td>\n",
              "      <td>1.4</td>\n",
              "      <td>0.2</td>\n",
              "      <td>0</td>\n",
              "    </tr>\n",
              "    <tr>\n",
              "      <th>...</th>\n",
              "      <td>...</td>\n",
              "      <td>...</td>\n",
              "      <td>...</td>\n",
              "      <td>...</td>\n",
              "      <td>...</td>\n",
              "    </tr>\n",
              "    <tr>\n",
              "      <th>145</th>\n",
              "      <td>6.7</td>\n",
              "      <td>3.0</td>\n",
              "      <td>5.2</td>\n",
              "      <td>2.3</td>\n",
              "      <td>2</td>\n",
              "    </tr>\n",
              "    <tr>\n",
              "      <th>146</th>\n",
              "      <td>6.3</td>\n",
              "      <td>2.5</td>\n",
              "      <td>5.0</td>\n",
              "      <td>1.9</td>\n",
              "      <td>2</td>\n",
              "    </tr>\n",
              "    <tr>\n",
              "      <th>147</th>\n",
              "      <td>6.5</td>\n",
              "      <td>3.0</td>\n",
              "      <td>5.2</td>\n",
              "      <td>2.0</td>\n",
              "      <td>2</td>\n",
              "    </tr>\n",
              "    <tr>\n",
              "      <th>148</th>\n",
              "      <td>6.2</td>\n",
              "      <td>3.4</td>\n",
              "      <td>5.4</td>\n",
              "      <td>2.3</td>\n",
              "      <td>2</td>\n",
              "    </tr>\n",
              "    <tr>\n",
              "      <th>149</th>\n",
              "      <td>5.9</td>\n",
              "      <td>3.0</td>\n",
              "      <td>5.1</td>\n",
              "      <td>1.8</td>\n",
              "      <td>2</td>\n",
              "    </tr>\n",
              "  </tbody>\n",
              "</table>\n",
              "<p>150 rows × 5 columns</p>\n",
              "</div>\n",
              "    <div class=\"colab-df-buttons\">\n",
              "\n",
              "  <div class=\"colab-df-container\">\n",
              "    <button class=\"colab-df-convert\" onclick=\"convertToInteractive('df-b2afa81f-a35d-4e6b-b18c-7d50d16f2ac4')\"\n",
              "            title=\"Convert this dataframe to an interactive table.\"\n",
              "            style=\"display:none;\">\n",
              "\n",
              "  <svg xmlns=\"http://www.w3.org/2000/svg\" height=\"24px\" viewBox=\"0 -960 960 960\">\n",
              "    <path d=\"M120-120v-720h720v720H120Zm60-500h600v-160H180v160Zm220 220h160v-160H400v160Zm0 220h160v-160H400v160ZM180-400h160v-160H180v160Zm440 0h160v-160H620v160ZM180-180h160v-160H180v160Zm440 0h160v-160H620v160Z\"/>\n",
              "  </svg>\n",
              "    </button>\n",
              "\n",
              "  <style>\n",
              "    .colab-df-container {\n",
              "      display:flex;\n",
              "      gap: 12px;\n",
              "    }\n",
              "\n",
              "    .colab-df-convert {\n",
              "      background-color: #E8F0FE;\n",
              "      border: none;\n",
              "      border-radius: 50%;\n",
              "      cursor: pointer;\n",
              "      display: none;\n",
              "      fill: #1967D2;\n",
              "      height: 32px;\n",
              "      padding: 0 0 0 0;\n",
              "      width: 32px;\n",
              "    }\n",
              "\n",
              "    .colab-df-convert:hover {\n",
              "      background-color: #E2EBFA;\n",
              "      box-shadow: 0px 1px 2px rgba(60, 64, 67, 0.3), 0px 1px 3px 1px rgba(60, 64, 67, 0.15);\n",
              "      fill: #174EA6;\n",
              "    }\n",
              "\n",
              "    .colab-df-buttons div {\n",
              "      margin-bottom: 4px;\n",
              "    }\n",
              "\n",
              "    [theme=dark] .colab-df-convert {\n",
              "      background-color: #3B4455;\n",
              "      fill: #D2E3FC;\n",
              "    }\n",
              "\n",
              "    [theme=dark] .colab-df-convert:hover {\n",
              "      background-color: #434B5C;\n",
              "      box-shadow: 0px 1px 3px 1px rgba(0, 0, 0, 0.15);\n",
              "      filter: drop-shadow(0px 1px 2px rgba(0, 0, 0, 0.3));\n",
              "      fill: #FFFFFF;\n",
              "    }\n",
              "  </style>\n",
              "\n",
              "    <script>\n",
              "      const buttonEl =\n",
              "        document.querySelector('#df-b2afa81f-a35d-4e6b-b18c-7d50d16f2ac4 button.colab-df-convert');\n",
              "      buttonEl.style.display =\n",
              "        google.colab.kernel.accessAllowed ? 'block' : 'none';\n",
              "\n",
              "      async function convertToInteractive(key) {\n",
              "        const element = document.querySelector('#df-b2afa81f-a35d-4e6b-b18c-7d50d16f2ac4');\n",
              "        const dataTable =\n",
              "          await google.colab.kernel.invokeFunction('convertToInteractive',\n",
              "                                                    [key], {});\n",
              "        if (!dataTable) return;\n",
              "\n",
              "        const docLinkHtml = 'Like what you see? Visit the ' +\n",
              "          '<a target=\"_blank\" href=https://colab.research.google.com/notebooks/data_table.ipynb>data table notebook</a>'\n",
              "          + ' to learn more about interactive tables.';\n",
              "        element.innerHTML = '';\n",
              "        dataTable['output_type'] = 'display_data';\n",
              "        await google.colab.output.renderOutput(dataTable, element);\n",
              "        const docLink = document.createElement('div');\n",
              "        docLink.innerHTML = docLinkHtml;\n",
              "        element.appendChild(docLink);\n",
              "      }\n",
              "    </script>\n",
              "  </div>\n",
              "\n",
              "\n",
              "<div id=\"df-4b56df87-0aef-4df5-ba54-6a4ad317ef4c\">\n",
              "  <button class=\"colab-df-quickchart\" onclick=\"quickchart('df-4b56df87-0aef-4df5-ba54-6a4ad317ef4c')\"\n",
              "            title=\"Suggest charts.\"\n",
              "            style=\"display:none;\">\n",
              "\n",
              "<svg xmlns=\"http://www.w3.org/2000/svg\" height=\"24px\"viewBox=\"0 0 24 24\"\n",
              "     width=\"24px\">\n",
              "    <g>\n",
              "        <path d=\"M19 3H5c-1.1 0-2 .9-2 2v14c0 1.1.9 2 2 2h14c1.1 0 2-.9 2-2V5c0-1.1-.9-2-2-2zM9 17H7v-7h2v7zm4 0h-2V7h2v10zm4 0h-2v-4h2v4z\"/>\n",
              "    </g>\n",
              "</svg>\n",
              "  </button>\n",
              "\n",
              "<style>\n",
              "  .colab-df-quickchart {\n",
              "      --bg-color: #E8F0FE;\n",
              "      --fill-color: #1967D2;\n",
              "      --hover-bg-color: #E2EBFA;\n",
              "      --hover-fill-color: #174EA6;\n",
              "      --disabled-fill-color: #AAA;\n",
              "      --disabled-bg-color: #DDD;\n",
              "  }\n",
              "\n",
              "  [theme=dark] .colab-df-quickchart {\n",
              "      --bg-color: #3B4455;\n",
              "      --fill-color: #D2E3FC;\n",
              "      --hover-bg-color: #434B5C;\n",
              "      --hover-fill-color: #FFFFFF;\n",
              "      --disabled-bg-color: #3B4455;\n",
              "      --disabled-fill-color: #666;\n",
              "  }\n",
              "\n",
              "  .colab-df-quickchart {\n",
              "    background-color: var(--bg-color);\n",
              "    border: none;\n",
              "    border-radius: 50%;\n",
              "    cursor: pointer;\n",
              "    display: none;\n",
              "    fill: var(--fill-color);\n",
              "    height: 32px;\n",
              "    padding: 0;\n",
              "    width: 32px;\n",
              "  }\n",
              "\n",
              "  .colab-df-quickchart:hover {\n",
              "    background-color: var(--hover-bg-color);\n",
              "    box-shadow: 0 1px 2px rgba(60, 64, 67, 0.3), 0 1px 3px 1px rgba(60, 64, 67, 0.15);\n",
              "    fill: var(--button-hover-fill-color);\n",
              "  }\n",
              "\n",
              "  .colab-df-quickchart-complete:disabled,\n",
              "  .colab-df-quickchart-complete:disabled:hover {\n",
              "    background-color: var(--disabled-bg-color);\n",
              "    fill: var(--disabled-fill-color);\n",
              "    box-shadow: none;\n",
              "  }\n",
              "\n",
              "  .colab-df-spinner {\n",
              "    border: 2px solid var(--fill-color);\n",
              "    border-color: transparent;\n",
              "    border-bottom-color: var(--fill-color);\n",
              "    animation:\n",
              "      spin 1s steps(1) infinite;\n",
              "  }\n",
              "\n",
              "  @keyframes spin {\n",
              "    0% {\n",
              "      border-color: transparent;\n",
              "      border-bottom-color: var(--fill-color);\n",
              "      border-left-color: var(--fill-color);\n",
              "    }\n",
              "    20% {\n",
              "      border-color: transparent;\n",
              "      border-left-color: var(--fill-color);\n",
              "      border-top-color: var(--fill-color);\n",
              "    }\n",
              "    30% {\n",
              "      border-color: transparent;\n",
              "      border-left-color: var(--fill-color);\n",
              "      border-top-color: var(--fill-color);\n",
              "      border-right-color: var(--fill-color);\n",
              "    }\n",
              "    40% {\n",
              "      border-color: transparent;\n",
              "      border-right-color: var(--fill-color);\n",
              "      border-top-color: var(--fill-color);\n",
              "    }\n",
              "    60% {\n",
              "      border-color: transparent;\n",
              "      border-right-color: var(--fill-color);\n",
              "    }\n",
              "    80% {\n",
              "      border-color: transparent;\n",
              "      border-right-color: var(--fill-color);\n",
              "      border-bottom-color: var(--fill-color);\n",
              "    }\n",
              "    90% {\n",
              "      border-color: transparent;\n",
              "      border-bottom-color: var(--fill-color);\n",
              "    }\n",
              "  }\n",
              "</style>\n",
              "\n",
              "  <script>\n",
              "    async function quickchart(key) {\n",
              "      const quickchartButtonEl =\n",
              "        document.querySelector('#' + key + ' button');\n",
              "      quickchartButtonEl.disabled = true;  // To prevent multiple clicks.\n",
              "      quickchartButtonEl.classList.add('colab-df-spinner');\n",
              "      try {\n",
              "        const charts = await google.colab.kernel.invokeFunction(\n",
              "            'suggestCharts', [key], {});\n",
              "      } catch (error) {\n",
              "        console.error('Error during call to suggestCharts:', error);\n",
              "      }\n",
              "      quickchartButtonEl.classList.remove('colab-df-spinner');\n",
              "      quickchartButtonEl.classList.add('colab-df-quickchart-complete');\n",
              "    }\n",
              "    (() => {\n",
              "      let quickchartButtonEl =\n",
              "        document.querySelector('#df-4b56df87-0aef-4df5-ba54-6a4ad317ef4c button');\n",
              "      quickchartButtonEl.style.display =\n",
              "        google.colab.kernel.accessAllowed ? 'block' : 'none';\n",
              "    })();\n",
              "  </script>\n",
              "</div>\n",
              "    </div>\n",
              "  </div>\n"
            ]
          },
          "metadata": {},
          "execution_count": 3
        }
      ],
      "source": [
        "# Create a label encoder\n",
        "le = LabelEncoder()\n",
        "\n",
        "# Fit the label encoder to the species column\n",
        "le.fit(iris[\"species\"])\n",
        "\n",
        "# Transform the species column\n",
        "iris[\"species\"] = le.transform(iris[\"species\"])\n",
        "\n",
        "iris\n",
        "\n",
        "#In the iris dataset,\n",
        "#Rows 0 to 49 = Setosa = Class 0\n",
        "#Rows 50 to 99 = Versicolor = Class 1\n",
        "#Rows 100 to 149 = Vriginica = Class 2"
      ]
    },
    {
      "cell_type": "markdown",
      "source": [
        "![WhatsApp Image 2023-09-22 at 23.21.02.jpg](data:image/jpeg;base64,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)"
      ],
      "metadata": {
        "id": "dLy6RrDyevYJ"
      }
    },
    {
      "cell_type": "markdown",
      "source": [
        "\n",
        "\n",
        "---\n",
        "\n"
      ],
      "metadata": {
        "id": "qq5QZPzSgGgi"
      }
    },
    {
      "cell_type": "markdown",
      "source": [
        "#Step 4: Select the Target and Features"
      ],
      "metadata": {
        "id": "EQwNb9WofT5f"
      }
    },
    {
      "cell_type": "code",
      "source": [
        "# Target\n",
        "y = iris[\"species\"]\n",
        "\n",
        "# Features\n",
        "X = iris[[\"sepal_length\", \"sepal_width\", \"petal_length\", \"petal_width\"]]"
      ],
      "metadata": {
        "id": "fz7XWFmQeqvZ"
      },
      "execution_count": 5,
      "outputs": []
    },
    {
      "cell_type": "markdown",
      "source": [
        "\n",
        "\n",
        "---\n",
        "\n"
      ],
      "metadata": {
        "id": "8qpWdctcgNqH"
      }
    },
    {
      "cell_type": "markdown",
      "source": [
        "#Step 5: Train Test Split"
      ],
      "metadata": {
        "id": "uSU6QC2JgLXm"
      }
    },
    {
      "cell_type": "code",
      "source": [
        "from sklearn.model_selection import train_test_split\n",
        "\n",
        "#Split the data into a training set and a testing set.\n",
        "train_X, test_X, train_y, test_y = train_test_split(X, y, test_size=0.2)"
      ],
      "metadata": {
        "id": "hO049c7Ye4oh"
      },
      "execution_count": 6,
      "outputs": []
    },
    {
      "cell_type": "markdown",
      "source": [
        "\n",
        "\n",
        "---\n",
        "#THE END\n",
        "\n",
        "\n",
        "---\n",
        "\n",
        "\n"
      ],
      "metadata": {
        "id": "jlRpAj8jgO3q"
      }
    }
  ]
}
